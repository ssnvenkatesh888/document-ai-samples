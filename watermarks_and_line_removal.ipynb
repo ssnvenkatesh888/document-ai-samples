{
 "cells": [
  {
   "cell_type": "markdown",
   "id": "44fcde24-2fc3-4e12-8bcf-d7da2335c8e8",
   "metadata": {},
   "source": [
    "# Watermarks and Line Removal"
   ]
  },
  {
   "cell_type": "markdown",
   "id": "f1141852-b53e-42fe-8fc8-c02ffaea41e1",
   "metadata": {},
   "source": [
    "* Author: docai-incubator@google.com"
   ]
  },
  {
   "cell_type": "markdown",
   "id": "f746a8d9-0032-462a-a4b9-5936f2deb2b6",
   "metadata": {},
   "source": [
    "## Disclaimer\n",
    "\n",
    "This tool is not supported by the Google engineering team or product team. It is provided and supported on a best-effort basis by the **DocAI Incubator Team**. No guarantees of performance are implied."
   ]
  },
  {
   "cell_type": "markdown",
   "id": "99c226ab-05d7-4ae6-8d7e-27e8ffa11eaa",
   "metadata": {},
   "source": [
    "# Objective\n",
    "The python script is designed to facilitate the removal of half-tone (grey) watermarks and Lines from images (PDF’s , JPG's, JPEG,etc ) using image processing techniques. Its purpose is to automate the pre-processing of eliminating visible watermarks  and lines present in the images."
   ]
  },
  {
   "cell_type": "markdown",
   "id": "be8606b7-7a5a-4977-b93d-ccf2e6768eac",
   "metadata": {},
   "source": [
    "# Prerequisites\n",
    "* Vertex AI Notebook or Google Colab\n",
    "* GCS bucket for processing of  the input files and output files"
   ]
  },
  {
   "cell_type": "markdown",
   "id": "1a26eeae-2a9c-47a0-a342-5201d5aea412",
   "metadata": {},
   "source": [
    "# Step-by-Step Procedure"
   ]
  },
  {
   "cell_type": "markdown",
   "id": "3e63766f-9e7f-4ea0-a00e-c387b28fe026",
   "metadata": {},
   "source": [
    "## 1. Import Modules/Packages"
   ]
  },
  {
   "cell_type": "code",
   "execution_count": 28,
   "id": "7ca9816d-7f30-4f2b-882f-62d86d128330",
   "metadata": {
    "collapsed": true,
    "jupyter": {
     "outputs_hidden": true
    },
    "tags": []
   },
   "outputs": [
    {
     "name": "stdout",
     "output_type": "stream",
     "text": [
      "--2024-06-18 13:25:39--  https://raw.githubusercontent.com/GoogleCloudPlatform/document-ai-samples/main/incubator-tools/best-practices/utilities/utilities.py\n",
      "Resolving raw.githubusercontent.com (raw.githubusercontent.com)... 185.199.111.133, 185.199.108.133, 185.199.110.133, ...\n",
      "Connecting to raw.githubusercontent.com (raw.githubusercontent.com)|185.199.111.133|:443... connected.\n",
      "HTTP request sent, awaiting response... 200 OK\n",
      "Length: 29735 (29K) [text/plain]\n",
      "Saving to: ‘utilities.py’\n",
      "\n",
      "utilities.py        100%[===================>]  29.04K  --.-KB/s    in 0.002s  \n",
      "\n",
      "2024-06-18 13:25:40 (18.0 MB/s) - ‘utilities.py’ saved [29735/29735]\n",
      "\n"
     ]
    }
   ],
   "source": [
    "# Run this cell to download utilities module\n",
    "!wget https://raw.githubusercontent.com/GoogleCloudPlatform/document-ai-samples/main/incubator-tools/best-practices/utilities/utilities.py"
   ]
  },
  {
   "cell_type": "code",
   "execution_count": 4,
   "id": "9c68b066-b043-4c14-9795-991ade6378d1",
   "metadata": {
    "collapsed": true,
    "jupyter": {
     "outputs_hidden": true
    },
    "tags": []
   },
   "outputs": [
    {
     "name": "stdout",
     "output_type": "stream",
     "text": [
      "Requirement already satisfied: google-cloud-storage in /opt/conda/lib/python3.10/site-packages (2.14.0)\n",
      "Requirement already satisfied: google-auth<3.0dev,>=2.23.3 in /opt/conda/lib/python3.10/site-packages (from google-cloud-storage) (2.28.2)\n",
      "Requirement already satisfied: google-api-core!=2.0.*,!=2.1.*,!=2.2.*,!=2.3.0,<3.0.0dev,>=1.31.5 in /opt/conda/lib/python3.10/site-packages (from google-cloud-storage) (1.34.1)\n",
      "Requirement already satisfied: google-cloud-core<3.0dev,>=2.3.0 in /opt/conda/lib/python3.10/site-packages (from google-cloud-storage) (2.4.1)\n",
      "Requirement already satisfied: google-resumable-media>=2.6.0 in /opt/conda/lib/python3.10/site-packages (from google-cloud-storage) (2.7.0)\n",
      "Requirement already satisfied: requests<3.0.0dev,>=2.18.0 in /opt/conda/lib/python3.10/site-packages (from google-cloud-storage) (2.31.0)\n",
      "Requirement already satisfied: google-crc32c<2.0dev,>=1.0 in /opt/conda/lib/python3.10/site-packages (from google-cloud-storage) (1.5.0)\n",
      "Requirement already satisfied: googleapis-common-protos<2.0dev,>=1.56.2 in /opt/conda/lib/python3.10/site-packages (from google-api-core!=2.0.*,!=2.1.*,!=2.2.*,!=2.3.0,<3.0.0dev,>=1.31.5->google-cloud-storage) (1.63.0)\n",
      "Requirement already satisfied: protobuf!=3.20.0,!=3.20.1,!=4.21.0,!=4.21.1,!=4.21.2,!=4.21.3,!=4.21.4,!=4.21.5,<4.0.0dev,>=3.19.5 in /opt/conda/lib/python3.10/site-packages (from google-api-core!=2.0.*,!=2.1.*,!=2.2.*,!=2.3.0,<3.0.0dev,>=1.31.5->google-cloud-storage) (3.20.3)\n",
      "Requirement already satisfied: cachetools<6.0,>=2.0.0 in /opt/conda/lib/python3.10/site-packages (from google-auth<3.0dev,>=2.23.3->google-cloud-storage) (5.3.3)\n",
      "Requirement already satisfied: pyasn1-modules>=0.2.1 in /opt/conda/lib/python3.10/site-packages (from google-auth<3.0dev,>=2.23.3->google-cloud-storage) (0.3.0)\n",
      "Requirement already satisfied: rsa<5,>=3.1.4 in /opt/conda/lib/python3.10/site-packages (from google-auth<3.0dev,>=2.23.3->google-cloud-storage) (4.9)\n",
      "Requirement already satisfied: charset-normalizer<4,>=2 in /opt/conda/lib/python3.10/site-packages (from requests<3.0.0dev,>=2.18.0->google-cloud-storage) (3.3.2)\n",
      "Requirement already satisfied: idna<4,>=2.5 in /opt/conda/lib/python3.10/site-packages (from requests<3.0.0dev,>=2.18.0->google-cloud-storage) (3.6)\n",
      "Requirement already satisfied: urllib3<3,>=1.21.1 in /opt/conda/lib/python3.10/site-packages (from requests<3.0.0dev,>=2.18.0->google-cloud-storage) (1.26.18)\n",
      "Requirement already satisfied: certifi>=2017.4.17 in /opt/conda/lib/python3.10/site-packages (from requests<3.0.0dev,>=2.18.0->google-cloud-storage) (2024.2.2)\n",
      "Requirement already satisfied: pyasn1<0.6.0,>=0.4.6 in /opt/conda/lib/python3.10/site-packages (from pyasn1-modules>=0.2.1->google-auth<3.0dev,>=2.23.3->google-cloud-storage) (0.5.1)\n",
      "Requirement already satisfied: google-cloud-documentai in /opt/conda/lib/python3.10/site-packages (2.26.0)\n",
      "Requirement already satisfied: google-api-core!=2.0.*,!=2.1.*,!=2.10.*,!=2.2.*,!=2.3.*,!=2.4.*,!=2.5.*,!=2.6.*,!=2.7.*,!=2.8.*,!=2.9.*,<3.0.0dev,>=1.34.1 in /opt/conda/lib/python3.10/site-packages (from google-api-core[grpc]!=2.0.*,!=2.1.*,!=2.10.*,!=2.2.*,!=2.3.*,!=2.4.*,!=2.5.*,!=2.6.*,!=2.7.*,!=2.8.*,!=2.9.*,<3.0.0dev,>=1.34.1->google-cloud-documentai) (1.34.1)\n",
      "Requirement already satisfied: google-auth!=2.24.0,!=2.25.0,<3.0.0dev,>=2.14.1 in /opt/conda/lib/python3.10/site-packages (from google-cloud-documentai) (2.28.2)\n",
      "Requirement already satisfied: proto-plus<2.0.0dev,>=1.22.3 in /opt/conda/lib/python3.10/site-packages (from google-cloud-documentai) (1.23.0)\n",
      "Requirement already satisfied: protobuf!=3.20.0,!=3.20.1,!=4.21.0,!=4.21.1,!=4.21.2,!=4.21.3,!=4.21.4,!=4.21.5,<5.0.0dev,>=3.19.5 in /opt/conda/lib/python3.10/site-packages (from google-cloud-documentai) (3.20.3)\n",
      "Requirement already satisfied: googleapis-common-protos<2.0dev,>=1.56.2 in /opt/conda/lib/python3.10/site-packages (from google-api-core!=2.0.*,!=2.1.*,!=2.10.*,!=2.2.*,!=2.3.*,!=2.4.*,!=2.5.*,!=2.6.*,!=2.7.*,!=2.8.*,!=2.9.*,<3.0.0dev,>=1.34.1->google-api-core[grpc]!=2.0.*,!=2.1.*,!=2.10.*,!=2.2.*,!=2.3.*,!=2.4.*,!=2.5.*,!=2.6.*,!=2.7.*,!=2.8.*,!=2.9.*,<3.0.0dev,>=1.34.1->google-cloud-documentai) (1.63.0)\n",
      "Requirement already satisfied: requests<3.0.0dev,>=2.18.0 in /opt/conda/lib/python3.10/site-packages (from google-api-core!=2.0.*,!=2.1.*,!=2.10.*,!=2.2.*,!=2.3.*,!=2.4.*,!=2.5.*,!=2.6.*,!=2.7.*,!=2.8.*,!=2.9.*,<3.0.0dev,>=1.34.1->google-api-core[grpc]!=2.0.*,!=2.1.*,!=2.10.*,!=2.2.*,!=2.3.*,!=2.4.*,!=2.5.*,!=2.6.*,!=2.7.*,!=2.8.*,!=2.9.*,<3.0.0dev,>=1.34.1->google-cloud-documentai) (2.31.0)\n",
      "Requirement already satisfied: grpcio<2.0dev,>=1.33.2 in /opt/conda/lib/python3.10/site-packages (from google-api-core[grpc]!=2.0.*,!=2.1.*,!=2.10.*,!=2.2.*,!=2.3.*,!=2.4.*,!=2.5.*,!=2.6.*,!=2.7.*,!=2.8.*,!=2.9.*,<3.0.0dev,>=1.34.1->google-cloud-documentai) (1.62.1)\n",
      "Requirement already satisfied: grpcio-status<2.0dev,>=1.33.2 in /opt/conda/lib/python3.10/site-packages (from google-api-core[grpc]!=2.0.*,!=2.1.*,!=2.10.*,!=2.2.*,!=2.3.*,!=2.4.*,!=2.5.*,!=2.6.*,!=2.7.*,!=2.8.*,!=2.9.*,<3.0.0dev,>=1.34.1->google-cloud-documentai) (1.48.2)\n",
      "Requirement already satisfied: cachetools<6.0,>=2.0.0 in /opt/conda/lib/python3.10/site-packages (from google-auth!=2.24.0,!=2.25.0,<3.0.0dev,>=2.14.1->google-cloud-documentai) (5.3.3)\n",
      "Requirement already satisfied: pyasn1-modules>=0.2.1 in /opt/conda/lib/python3.10/site-packages (from google-auth!=2.24.0,!=2.25.0,<3.0.0dev,>=2.14.1->google-cloud-documentai) (0.3.0)\n",
      "Requirement already satisfied: rsa<5,>=3.1.4 in /opt/conda/lib/python3.10/site-packages (from google-auth!=2.24.0,!=2.25.0,<3.0.0dev,>=2.14.1->google-cloud-documentai) (4.9)\n",
      "Requirement already satisfied: pyasn1<0.6.0,>=0.4.6 in /opt/conda/lib/python3.10/site-packages (from pyasn1-modules>=0.2.1->google-auth!=2.24.0,!=2.25.0,<3.0.0dev,>=2.14.1->google-cloud-documentai) (0.5.1)\n",
      "Requirement already satisfied: charset-normalizer<4,>=2 in /opt/conda/lib/python3.10/site-packages (from requests<3.0.0dev,>=2.18.0->google-api-core!=2.0.*,!=2.1.*,!=2.10.*,!=2.2.*,!=2.3.*,!=2.4.*,!=2.5.*,!=2.6.*,!=2.7.*,!=2.8.*,!=2.9.*,<3.0.0dev,>=1.34.1->google-api-core[grpc]!=2.0.*,!=2.1.*,!=2.10.*,!=2.2.*,!=2.3.*,!=2.4.*,!=2.5.*,!=2.6.*,!=2.7.*,!=2.8.*,!=2.9.*,<3.0.0dev,>=1.34.1->google-cloud-documentai) (3.3.2)\n",
      "Requirement already satisfied: idna<4,>=2.5 in /opt/conda/lib/python3.10/site-packages (from requests<3.0.0dev,>=2.18.0->google-api-core!=2.0.*,!=2.1.*,!=2.10.*,!=2.2.*,!=2.3.*,!=2.4.*,!=2.5.*,!=2.6.*,!=2.7.*,!=2.8.*,!=2.9.*,<3.0.0dev,>=1.34.1->google-api-core[grpc]!=2.0.*,!=2.1.*,!=2.10.*,!=2.2.*,!=2.3.*,!=2.4.*,!=2.5.*,!=2.6.*,!=2.7.*,!=2.8.*,!=2.9.*,<3.0.0dev,>=1.34.1->google-cloud-documentai) (3.6)\n",
      "Requirement already satisfied: urllib3<3,>=1.21.1 in /opt/conda/lib/python3.10/site-packages (from requests<3.0.0dev,>=2.18.0->google-api-core!=2.0.*,!=2.1.*,!=2.10.*,!=2.2.*,!=2.3.*,!=2.4.*,!=2.5.*,!=2.6.*,!=2.7.*,!=2.8.*,!=2.9.*,<3.0.0dev,>=1.34.1->google-api-core[grpc]!=2.0.*,!=2.1.*,!=2.10.*,!=2.2.*,!=2.3.*,!=2.4.*,!=2.5.*,!=2.6.*,!=2.7.*,!=2.8.*,!=2.9.*,<3.0.0dev,>=1.34.1->google-cloud-documentai) (1.26.18)\n",
      "Requirement already satisfied: certifi>=2017.4.17 in /opt/conda/lib/python3.10/site-packages (from requests<3.0.0dev,>=2.18.0->google-api-core!=2.0.*,!=2.1.*,!=2.10.*,!=2.2.*,!=2.3.*,!=2.4.*,!=2.5.*,!=2.6.*,!=2.7.*,!=2.8.*,!=2.9.*,<3.0.0dev,>=1.34.1->google-api-core[grpc]!=2.0.*,!=2.1.*,!=2.10.*,!=2.2.*,!=2.3.*,!=2.4.*,!=2.5.*,!=2.6.*,!=2.7.*,!=2.8.*,!=2.9.*,<3.0.0dev,>=1.34.1->google-cloud-documentai) (2024.2.2)\n"
     ]
    }
   ],
   "source": [
    "!pip install google-cloud-storage\n",
    "!pip install google-cloud-documentai"
   ]
  },
  {
   "cell_type": "code",
   "execution_count": 1,
   "id": "e1c6c523-90b3-4928-aa68-6693f6ecc3b1",
   "metadata": {
    "tags": []
   },
   "outputs": [],
   "source": [
    "from mimetypes import MimeTypes\n",
    "import io\n",
    "from typing import ByteString\n",
    "import cv2\n",
    "import numpy as np\n",
    "from google.cloud import documentai_v1beta3 as documentai\n",
    "from google.cloud import storage\n",
    "from PIL import Image\n",
    "import fitz\n",
    "from utilities import file_names,store_document_as_json"
   ]
  },
  {
   "cell_type": "markdown",
   "id": "7964a892-419e-4dc2-80b1-84aff3fe9eff",
   "metadata": {},
   "source": [
    "## 2. Input Details"
   ]
  },
  {
   "cell_type": "markdown",
   "id": "cd6301ca-b177-4127-8ef0-11a51197fb9c",
   "metadata": {},
   "source": [
    "* **INPUT_GCS_PATH** : It is input GCS folder path which contains DocumentAI processor JSON results\n",
    "* **OUTPUT_GCS_PATH** : It is a GCS folder path to store post-processing results\n",
    "* **EXPECTED_DOCUMENT_TYPE** : It contains document types"
   ]
  },
  {
   "cell_type": "code",
   "execution_count": null,
   "id": "01ac600d-5c90-4a9a-8651-e247cd782c89",
   "metadata": {},
   "outputs": [],
   "source": [
    "expected_document_type = [\"application/pdf\",\"image/tiff\"] #document types\n",
    "input_path = \"gs://xxxxxxx/xxxxxxxx/\" #  Path to your input files.\n",
    "output_path = \"gs://xxxxx/xxxxxxx/xxxxxxx\" # Path where output files will be saved"
   ]
  },
  {
   "cell_type": "code",
   "execution_count": 2,
   "id": "75c9e11f-3cb9-4edd-a185-2622d5edf551",
   "metadata": {
    "tags": []
   },
   "outputs": [],
   "source": [
    "expected_document_type = [\"application/pdf\",\"image/tiff\"] #document types\n",
    "INPUT_PATH = \"gs://test_data_program_team/watermarks_and_line_removal/input_files/FTA Date Issue Redacted_Sravika/\" #  Path to your input files.\n",
    "OUTPUT_PATH = \"gs://test_data_program_team/watermarks_and_line_removal/output_files1\" # Path where output files will be saved"
   ]
  },
  {
   "cell_type": "markdown",
   "id": "64d3937b-e735-45ef-be7e-a6ce237be355",
   "metadata": {},
   "source": [
    "## 3. Run Below Code-Cells"
   ]
  },
  {
   "cell_type": "code",
   "execution_count": 3,
   "id": "daf1fdc8-6494-443d-83a1-1c531e613c08",
   "metadata": {
    "collapsed": true,
    "jupyter": {
     "outputs_hidden": true
    },
    "tags": []
   },
   "outputs": [
    {
     "name": "stdout",
     "output_type": "stream",
     "text": [
      "1717238796562.tif\n",
      "('image/tiff', None)\n",
      "1717238796820.tif\n",
      "('image/tiff', None)\n",
      "1717238797113.pdf\n",
      "('application/pdf', None)\n",
      "1717238797744.pdf\n",
      "('application/pdf', None)\n",
      "1717238797952.pdf\n",
      "('application/pdf', None)\n",
      "1717238799352.pdf\n",
      "('application/pdf', None)\n",
      "1717238799728.pdf\n",
      "('application/pdf', None)\n",
      "1717238800707.pdf\n",
      "('application/pdf', None)\n",
      "1717238800904.pdf\n",
      "('application/pdf', None)\n",
      "1717238801574.pdf\n",
      "('application/pdf', None)\n"
     ]
    }
   ],
   "source": [
    "input_bucket_name = INPUT_PATH.split(\"/\")[2]\n",
    "output_bucket_name = OUTPUT_PATH.split(\"/\")[2]\n",
    "\n",
    "mime = MimeTypes()\n",
    "\n",
    "def read_image_from_bytecode(image_bytecode: bytes) -> np.ndarray:\n",
    "    \"\"\"\n",
    "    Convert bytecode to a numpy array and decode it into an image.\n",
    "\n",
    "    Parameters:\n",
    "    image_bytecode (bytes): The bytecode of the image to be converted.\n",
    "\n",
    "    Returns:\n",
    "    numpy.ndarray: The decoded image in BGR format.\n",
    "    \"\"\"\n",
    "    # Convert bytecode to numpy array\n",
    "    nparr = np.frombuffer(image_bytecode, np.uint8)\n",
    "    # Decode image from numpy array\n",
    "    image = cv2.imdecode(nparr, cv2.IMREAD_COLOR)\n",
    "    return image\n",
    "\n",
    "def store_image_to_bytecode(image: np.ndarray, file_format: str = '.png') -> bytes:\n",
    "    \"\"\"\n",
    "    Encode image to bytecode.\n",
    "\n",
    "    Parameters:\n",
    "    image (numpy.ndarray): The image to be encoded.\n",
    "    file_format (str): The format to encode the image into. Default is '.png'.\n",
    "\n",
    "    Returns:\n",
    "    bytes: The bytecode of the encoded image.\n",
    "    \"\"\"\n",
    "    # Encode image to bytecode\n",
    "    is_success, buffer = cv2.imencode(file_format, image)\n",
    "    if not is_success:\n",
    "        raise ValueError(\"Failed to encode image\")\n",
    "    bytecode = buffer.tobytes()\n",
    "    return bytecode\n",
    "\n",
    "def remove_watermark_image(doc_byte: ByteString) -> bytes:\n",
    "    \"\"\"\n",
    "    Remove watermark from an image given as byte data.\n",
    "\n",
    "    Parameters:\n",
    "    - doc_byte (bytes): Byte data of the image file.\n",
    "\n",
    "    Returns:\n",
    "    - bytes: Byte data of the image with watermark removed.\n",
    "    \"\"\"\n",
    "    # Read the image from bytecode\n",
    "    image = read_image_from_bytecode(doc_byte)\n",
    "\n",
    "    # Convert the image to grayscale\n",
    "    grayscale = cv2.cvtColor(image, cv2.COLOR_BGR2GRAY)\n",
    "\n",
    "    # Create a copy of the grayscale image for background processing\n",
    "    background = grayscale.copy()\n",
    "\n",
    "    # Define a kernel for morphology operations\n",
    "    kernel_size = 2\n",
    "    kernel = cv2.getStructuringElement(cv2.MORPH_ELLIPSE, (kernel_size, kernel_size))\n",
    "\n",
    "    # Apply morphological operations to remove background noise\n",
    "    background = cv2.morphologyEx(background, cv2.MORPH_CLOSE, kernel)\n",
    "    background = cv2.morphologyEx(background, cv2.MORPH_OPEN, kernel)\n",
    "\n",
    "    # Calculate the difference between the background and the grayscale image\n",
    "    difference = cv2.subtract(background, grayscale)\n",
    "\n",
    "    # Apply thresholding to create a binary mask of the watermark\n",
    "    _, binary = cv2.threshold(difference, 0, 255, cv2.THRESH_BINARY_INV | cv2.THRESH_OTSU)\n",
    "\n",
    "    # Apply the binary mask to the original image to remove the watermark\n",
    "    result = cv2.bitwise_and(image, image, mask=binary)\n",
    "\n",
    "    # Encode the result image as PNG and return as bytes\n",
    "    _, result_bytes = cv2.imencode('.png', result)\n",
    "    return result_bytes.tobytes()\n",
    "\n",
    "\n",
    "def remove_straight_lines(doc_byte: ByteString) -> ByteString:\n",
    "    \"\"\"\n",
    "    Remove straight horizontal lines from an image given as byte data.\n",
    "\n",
    "    Parameters:\n",
    "    - doc_byte (bytes): Byte data of the image file.\n",
    "\n",
    "    Returns:\n",
    "    - bytes: Byte data of the image with straight horizontal lines removed.\n",
    "    \"\"\"\n",
    "    # Read the image from bytecode\n",
    "    image = read_image_from_bytecode(doc_byte)\n",
    "    # Convert image to grayscale\n",
    "    gray = cv2.cvtColor(image, cv2.COLOR_BGR2GRAY)\n",
    "    # Apply Gaussian blur to reduce noise\n",
    "    blurred = cv2.GaussianBlur(gray, (5, 5), 0)\n",
    "    # Apply Canny edge detection\n",
    "    edged = cv2.Canny(blurred, 50, 150, apertureSize=3)\n",
    "    # Detect lines using Hough transform\n",
    "    lines = cv2.HoughLinesP(edged, 1, np.pi/180, threshold=100, minLineLength=200, maxLineGap=10)\n",
    "    if lines is not None:\n",
    "        # Iterate over detected lines\n",
    "        for line in lines:\n",
    "            x1, y1, x2, y2 = line[0]\n",
    "            # Check if the line is nearly horizontal (thresholded by y-axis difference)\n",
    "            if abs(y2 - y1) < 10:\n",
    "                # Draw a white line over the detected straight line\n",
    "                cv2.line(image, (x1, y1), (x2, y2), (255, 255, 255), 2)\n",
    "        # Convert image back to RGB (if necessary)\n",
    "        image_rgb = cv2.cvtColor(image, cv2.COLOR_BGR2RGB)\n",
    "        # Convert image to byte data\n",
    "        image_byte = store_image_to_bytecode(image_rgb)\n",
    "        return image_byte\n",
    "    return doc_byte\n",
    "\n",
    "def document_downloader(\n",
    "    bucket_name: str, blob_name_with_prefix_path: str\n",
    ") -> documentai.Document:\n",
    "    \"\"\"\n",
    "    Downloads a file from a specified Google Cloud Storage bucket\n",
    "    and converts it into a DocumentAI Document proto.\n",
    "\n",
    "    Args:\n",
    "        bucket_name (str): The name of the GCS bucket from which to download the file.\n",
    "        blob_name_with_prefix_path (str): The full path (prefix) to the JSON blob in the bucket.\n",
    "\n",
    "    Returns:\n",
    "        documentai.Document: A DocumentAI Document proto representation of the downloaded JSON.\n",
    "    \"\"\"\n",
    "\n",
    "    storage_client = storage.Client()\n",
    "    bucket = storage_client.bucket(bucket_name)\n",
    "    blob = bucket.blob(blob_name_with_prefix_path)\n",
    "\n",
    "    doc = blob.download_as_bytes()\n",
    "\n",
    "    return doc\n",
    "\n",
    "def convert_pdf_to_bytecode(pdf_bytes: bytes, dpi: int = 400) -> list:\n",
    "    \"\"\"\n",
    "    Convert each page of a PDF document to byte data in JPEG format.\n",
    "\n",
    "    Parameters:\n",
    "    - pdf_bytes (bytes): Byte data of the PDF document.\n",
    "    - dpi (int): Dots per inch for rendering PDF pages (default is 400).\n",
    "\n",
    "    Returns:\n",
    "    - list: List of byte data for each page of the PDF as JPEG images.\n",
    "    \"\"\"\n",
    "    pdf_document = fitz.open(\"pdf\", pdf_bytes)\n",
    "    bytecode_list = []\n",
    "    for page_num in range(len(pdf_document)):\n",
    "        page = pdf_document.load_page(page_num)\n",
    "        # Transform to zoom based on DPI\n",
    "        zoom_x = dpi / 72.0\n",
    "        zoom_y = dpi / 72.0\n",
    "        mat = fitz.Matrix(zoom_x, zoom_y)\n",
    "        pix = page.get_pixmap(matrix=mat)\n",
    "        # Get the image bytes directly from the Pixmap\n",
    "        img_bytes = pix.tobytes(\"jpeg\")\n",
    "        # Convert the bytes to an image using Pillow\n",
    "        byte_array = io.BytesIO(img_bytes)\n",
    "        image = Image.open(byte_array)\n",
    "        # Save the image to a new BytesIO object in the desired format (JPEG)\n",
    "        byte_array_converted = io.BytesIO()\n",
    "        image.save(byte_array_converted, format='JPEG')\n",
    "        bytecode = byte_array_converted.getvalue()\n",
    "        bytecode_list.append(bytecode)\n",
    "    return bytecode_list\n",
    "\n",
    "def convert_docs_to_bytecode(doc: bytes, dpi=(400, 400)) -> list:\n",
    "    \"\"\"\n",
    "    Convert a multi-frame document (like a multi-page TIFF) from byte data to a list of byte data,\n",
    "    with each frame having specified DPI settings.\n",
    "\n",
    "    Parameters:\n",
    "    - doc (bytes): Byte data of the multi-frame document.\n",
    "    - dpi (tuple): DPI settings in the form of (dpi_x, dpi_y) (default is (400, 400)).\n",
    "\n",
    "    Returns:\n",
    "    - list: List of byte data for each frame of the document.\n",
    "    \"\"\"\n",
    "    with Image.open(io.BytesIO(doc)) as img:\n",
    "        bytecode_list = []\n",
    "        for i in range(img.n_frames):\n",
    "            img.seek(i)  # Go to the ith frame\n",
    "            # Save the frame to a BytesIO object with specified DPI and format\n",
    "            byte_array = io.BytesIO()\n",
    "            img.save(byte_array, format='TIFF', dpi=dpi)\n",
    "            bytecode = byte_array.getvalue()\n",
    "            bytecode_list.append(bytecode)\n",
    "        return bytecode_list\n",
    "\n",
    "def reduce_image_size(image_bytes, output_format='JPEG'):\n",
    "    \"\"\"\n",
    "    Optimize the size of an image without significantly affecting its quality.\n",
    "    \n",
    "    :param image_bytes: Bytes of the input image.\n",
    "    :param output_format: Desired output format (e.g., 'JPEG', 'PNG'). Default is 'JPEG'.\n",
    "    :return: Bytes of the optimized image.\n",
    "    \"\"\"\n",
    "    input_buffer = io.BytesIO(image_bytes)\n",
    "    output_buffer = io.BytesIO()\n",
    "    with Image.open(input_buffer) as img:\n",
    "        # Create a new image to remove EXIF metadata\n",
    "        img_without_metadata = Image.new(img.mode, img.size)\n",
    "        img_without_metadata.putdata(list(img.getdata()))\n",
    "        # Optimize and save the image\n",
    "        if output_format.upper() == 'JPEG':\n",
    "            img_without_metadata.save(output_buffer, format=output_format, quality=95,\n",
    "                                      optimize=True)\n",
    "        else:\n",
    "            img_without_metadata.save(output_buffer, format=output_format, optimize=True)\n",
    "    return output_buffer.getvalue()\n",
    "\n",
    "document_paths =list(file_names(INPUT_PATH)[1].values())\n",
    "\n",
    "for document_path in document_paths:\n",
    "    file_name = document_path.split(\"/\")[-1]\n",
    "    print(file_name)\n",
    "    folder_name = file_name.split(\".\")[0]\n",
    "    output_full_path =  (\"/\".join(OUTPUT_PATH.split(\"/\")[3:])) + f\"/{folder_name}\"\n",
    "    doc_mime_type = mime.guess_type(document_path)\n",
    "    if doc_mime_type[0] not in expected_document_type:\n",
    "        print(\"[x] Not an expected document type : \",document_path)\n",
    "        continue\n",
    "    document_bytes = document_downloader(input_bucket_name,document_path)\n",
    "    print(doc_mime_type)\n",
    "    COUNT = 0\n",
    "    if doc_mime_type[0] == \"application/pdf\":\n",
    "        document_byte_list = convert_pdf_to_bytecode(document_bytes)\n",
    "        for document_byte in document_byte_list:\n",
    "            removed_watermark_bytes = remove_watermark_image(document_byte)\n",
    "            removed_straight_bytes = remove_straight_lines(removed_watermark_bytes)\n",
    "\n",
    "            reduced_image_bytes = reduce_image_size(removed_straight_bytes)\n",
    "\n",
    "\n",
    "            store_document_as_json(reduced_image_bytes,output_bucket_name,\n",
    "                                   output_full_path + f\"/{folder_name}_{COUNT}.jpeg\")\n",
    "            COUNT+=1\n",
    "    else:\n",
    "        document_byte_list = convert_docs_to_bytecode(document_bytes)\n",
    "        for document_byte in document_byte_list:\n",
    "            removed_watermark_bytes = remove_watermark_image(document_byte)\n",
    "            removed_straight_bytes = remove_straight_lines(removed_watermark_bytes)\n",
    "\n",
    "            store_document_as_json(removed_straight_bytes,\n",
    "                                   output_bucket_name,\n",
    "                                   output_full_path + f\"/{folder_name}_{COUNT}.jpeg\")\n",
    "            COUNT+=1\n"
   ]
  },
  {
   "cell_type": "markdown",
   "id": "9544c987-6727-4a4c-8026-04097702ad22",
   "metadata": {},
   "source": [
    "# 4. Output Details\n",
    "\n",
    "Refer below images for Input and Output File"
   ]
  },
  {
   "cell_type": "markdown",
   "id": "b1c6e212-3558-4b24-832c-d003a237753a",
   "metadata": {},
   "source": [
    "<table>\n",
    "    <tr>\n",
    "        <td>\n",
    "            <b>Input Image</b>\n",
    "        </td>\n",
    "        <td>\n",
    "            <b>Output Image</b>\n",
    "        </td>\n",
    "    </tr>\n",
    "    <tr>\n",
    "        <td>\n",
    "            <img src='./Images/INPUT_1.png' width=400 height=600></img>\n",
    "        </td>\n",
    "        <td>\n",
    "            <img src='./Images/OUTPUT_1.png' width=400 height=600></img>\n",
    "        </td>\n",
    "    </tr>\n",
    "    <tr>\n",
    "        <td>\n",
    "            <img src='./Images/INPUT_2.png' width=400 height=600></img>\n",
    "        </td>\n",
    "        <td>\n",
    "            <img src='./Images/OUTPUT_2.png' width=400 height=600></img>\n",
    "        </td>\n",
    "    </tr>\n",
    "</table>\n",
    "    "
   ]
  },
  {
   "cell_type": "code",
   "execution_count": null,
   "id": "02965c16-1428-4df7-a674-0f34ddc12d60",
   "metadata": {},
   "outputs": [],
   "source": []
  }
 ],
 "metadata": {
  "environment": {
   "kernel": "conda-root-py",
   "name": "workbench-notebooks.m119",
   "type": "gcloud",
   "uri": "us-docker.pkg.dev/deeplearning-platform-release/gcr.io/workbench-notebooks:m119"
  },
  "kernelspec": {
   "display_name": "Python 3 (ipykernel)",
   "language": "python",
   "name": "conda-root-py"
  },
  "language_info": {
   "codemirror_mode": {
    "name": "ipython",
    "version": 3
   },
   "file_extension": ".py",
   "mimetype": "text/x-python",
   "name": "python",
   "nbconvert_exporter": "python",
   "pygments_lexer": "ipython3",
   "version": "3.10.14"
  }
 },
 "nbformat": 4,
 "nbformat_minor": 5
}
